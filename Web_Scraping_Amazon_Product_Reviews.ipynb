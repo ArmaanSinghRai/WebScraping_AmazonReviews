{
 "cells": [
  {
   "cell_type": "code",
   "execution_count": null,
   "metadata": {
    "id": "vBF3NfKWkT2W"
   },
   "outputs": [],
   "source": [
    "import requests\n",
    "from bs4 import BeautifulSoup"
   ]
  },
  {
   "cell_type": "code",
   "execution_count": null,
   "metadata": {
    "id": "Y-kgog0cde9D"
   },
   "outputs": [],
   "source": [
    "import pandas as pd"
   ]
  },
  {
   "cell_type": "code",
   "execution_count": null,
   "metadata": {
    "colab": {
     "base_uri": "https://localhost:8080/"
    },
    "id": "K2E9-HemkZeO",
    "outputId": "9f60d921-bd23-4560-89d5-d0d05298e66a"
   },
   "outputs": [
    {
     "data": {
      "text/plain": [
       "<Response [200]>"
      ]
     },
     "execution_count": 2,
     "metadata": {},
     "output_type": "execute_result"
    }
   ],
   "source": [
    "url = \"https://www.amazon.in/New-Apple-iPhone-Mini-128GB/product-reviews/B08L5VN68Y/ref=cm_cr_dp_d_show_all_btm?ie=UTF8&reviewerType=all_reviews\"\n",
    "code = requests.get(url)\n",
    "code"
   ]
  },
  {
   "cell_type": "code",
   "execution_count": null,
   "metadata": {
    "colab": {
     "base_uri": "https://localhost:8080/"
    },
    "id": "a7ByYLR3lfcw",
    "outputId": "da54ddba-4738-4497-88e0-3434865b7e21"
   },
   "outputs": [],
   "source": [
    "soup = BeautifulSoup(code.content,'html.parser')\n",
    "print(soup.prettify())"
   ]
  },
  {
   "cell_type": "code",
   "execution_count": null,
   "metadata": {
    "colab": {
     "base_uri": "https://localhost:8080/"
    },
    "id": "-vz9-vqfmAot",
    "outputId": "e74609bd-ca0e-444a-a98d-a3a2cae7fba4"
   },
   "outputs": [
    {
     "data": {
      "text/plain": [
       "[<span class=\"a-profile-name\">RB</span>,\n",
       " <span class=\"a-profile-name\">Aravind</span>,\n",
       " <span class=\"a-profile-name\">Abel philips Johny</span>,\n",
       " <span class=\"a-profile-name\">Rajesh kumar</span>,\n",
       " <span class=\"a-profile-name\">Rohan Chowdhury</span>,\n",
       " <span class=\"a-profile-name\">Divyansh</span>,\n",
       " <span class=\"a-profile-name\">Pradeep Kumar Yadav</span>,\n",
       " <span class=\"a-profile-name\">Hariharasudan Thiyagamoorthi</span>,\n",
       " <span class=\"a-profile-name\">Atoz</span>,\n",
       " <span class=\"a-profile-name\">Swagath Kumar kolige</span>]"
      ]
     },
     "execution_count": 4,
     "metadata": {},
     "output_type": "execute_result"
    }
   ],
   "source": [
    "names = soup.select('span.a-profile-name')[2:]\n",
    "names"
   ]
  },
  {
   "cell_type": "code",
   "execution_count": null,
   "metadata": {
    "colab": {
     "base_uri": "https://localhost:8080/"
    },
    "id": "ZQ7de7APm_J-",
    "outputId": "6e61ea46-5544-443e-eeb3-24d3b6ee1f09"
   },
   "outputs": [
    {
     "data": {
      "text/plain": [
       "10"
      ]
     },
     "execution_count": 5,
     "metadata": {},
     "output_type": "execute_result"
    }
   ],
   "source": [
    "len(names)"
   ]
  },
  {
   "cell_type": "code",
   "execution_count": null,
   "metadata": {
    "colab": {
     "base_uri": "https://localhost:8080/"
    },
    "id": "z6Kc_O_LnZmI",
    "outputId": "02a67933-6c43-4e93-8398-55d8ca50d612"
   },
   "outputs": [
    {
     "data": {
      "text/plain": [
       "[<span>Battery sucks rest all great</span>,\n",
       " <span>Ideal for what it is</span>,\n",
       " <span>iPhone 12 mini 🥰</span>,\n",
       " <span>Please don’t buy, overheating, no battery life, battery drain in 2 hours</span>,\n",
       " <span>Need a small phone? Care about privacy? Get this.</span>,\n",
       " <span>I LOVE IT!!!</span>,\n",
       " <span>Featured</span>,\n",
       " <span>An unplanned upgrade from iPhone SE (1st Gen) - but totally happy with the upgrade!</span>,\n",
       " <span>Decent product. Not value for money.</span>,\n",
       " <span>Only issue is you do something or not Battery drains so fast.</span>]"
      ]
     },
     "execution_count": 6,
     "metadata": {},
     "output_type": "execute_result"
    }
   ],
   "source": [
    "titles = soup.select('a.review-title span')\n",
    "titles"
   ]
  },
  {
   "cell_type": "code",
   "execution_count": null,
   "metadata": {
    "id": "DIVVIRbopS7z"
   },
   "outputs": [],
   "source": [
    "len(titles)"
   ]
  },
  {
   "cell_type": "code",
   "execution_count": null,
   "metadata": {
    "colab": {
     "base_uri": "https://localhost:8080/"
    },
    "id": "suEmU1g9pUjS",
    "outputId": "c6e174e4-06a0-499b-f306-f2f05cb9b78a"
   },
   "outputs": [
    {
     "data": {
      "text/plain": [
       "[<span class=\"a-size-base a-color-secondary review-date\" data-hook=\"review-date\">Reviewed in India 🇮🇳 on 21 November 2022</span>,\n",
       " <span class=\"a-size-base a-color-secondary review-date\" data-hook=\"review-date\">Reviewed in India 🇮🇳 on 4 August 2022</span>,\n",
       " <span class=\"a-size-base a-color-secondary review-date\" data-hook=\"review-date\">Reviewed in India 🇮🇳 on 22 November 2022</span>,\n",
       " <span class=\"a-size-base a-color-secondary review-date\" data-hook=\"review-date\">Reviewed in India 🇮🇳 on 21 September 2022</span>,\n",
       " <span class=\"a-size-base a-color-secondary review-date\" data-hook=\"review-date\">Reviewed in India 🇮🇳 on 1 March 2021</span>,\n",
       " <span class=\"a-size-base a-color-secondary review-date\" data-hook=\"review-date\">Reviewed in India 🇮🇳 on 14 March 2021</span>,\n",
       " <span class=\"a-size-base a-color-secondary review-date\" data-hook=\"review-date\">Reviewed in India 🇮🇳 on 17 October 2022</span>,\n",
       " <span class=\"a-size-base a-color-secondary review-date\" data-hook=\"review-date\">Reviewed in India 🇮🇳 on 13 February 2021</span>,\n",
       " <span class=\"a-size-base a-color-secondary review-date\" data-hook=\"review-date\">Reviewed in India 🇮🇳 on 5 September 2022</span>,\n",
       " <span class=\"a-size-base a-color-secondary review-date\" data-hook=\"review-date\">Reviewed in India 🇮🇳 on 5 August 2022</span>]"
      ]
     },
     "execution_count": 7,
     "metadata": {},
     "output_type": "execute_result"
    }
   ],
   "source": [
    "dates = soup.select('span.review-date')[2:]\n",
    "dates"
   ]
  },
  {
   "cell_type": "code",
   "execution_count": null,
   "metadata": {
    "colab": {
     "base_uri": "https://localhost:8080/"
    },
    "id": "aeYgI90FqUtK",
    "outputId": "0814e21f-09e8-43f2-8557-d6a208382c26"
   },
   "outputs": [
    {
     "data": {
      "text/plain": [
       "10"
      ]
     },
     "execution_count": 16,
     "metadata": {
      "tags": []
     },
     "output_type": "execute_result"
    }
   ],
   "source": [
    "len(dates)"
   ]
  },
  {
   "cell_type": "code",
   "execution_count": null,
   "metadata": {
    "colab": {
     "base_uri": "https://localhost:8080/"
    },
    "id": "5jp3bAj2qWCG",
    "outputId": "86b414f0-9b52-4f9a-8b67-6915ab01d0b7"
   },
   "outputs": [
    {
     "data": {
      "text/plain": [
       "[<span class=\"a-icon-alt\">4.0 out of 5 stars</span>,\n",
       " <span class=\"a-icon-alt\">5.0 out of 5 stars</span>,\n",
       " <span class=\"a-icon-alt\">5.0 out of 5 stars</span>,\n",
       " <span class=\"a-icon-alt\">4.0 out of 5 stars</span>,\n",
       " <span class=\"a-icon-alt\">5.0 out of 5 stars</span>,\n",
       " <span class=\"a-icon-alt\">5.0 out of 5 stars</span>,\n",
       " <span class=\"a-icon-alt\">5.0 out of 5 stars</span>,\n",
       " <span class=\"a-icon-alt\">5.0 out of 5 stars</span>,\n",
       " <span class=\"a-icon-alt\">3.0 out of 5 stars</span>,\n",
       " <span class=\"a-icon-alt\">4.0 out of 5 stars</span>]"
      ]
     },
     "execution_count": 8,
     "metadata": {},
     "output_type": "execute_result"
    }
   ],
   "source": [
    "stars = soup.select('i.review-rating span.a-icon-alt')[2:]\n",
    "stars"
   ]
  },
  {
   "cell_type": "code",
   "execution_count": null,
   "metadata": {
    "id": "fw-Imgn4rImN"
   },
   "outputs": [],
   "source": [
    "len(stars)"
   ]
  },
  {
   "cell_type": "code",
   "execution_count": null,
   "metadata": {
    "colab": {
     "base_uri": "https://localhost:8080/"
    },
    "id": "TN6Oc3gqrMAG",
    "outputId": "3b595e30-3a76-4b58-8b69-2e10a2720731"
   },
   "outputs": [
    {
     "data": {
      "text/plain": [
       "[<span>Battery is just pathetic and  in camera, i dont like its potrait shots</span>,\n",
       " <span>Ever since the first One plus, I'd been moving towards phablet sized phones, consuming more content, holding heavier devices, bending down at work, bed, bathroom, all glued to the large display. I never imagined what it could lead to until I got a slipped disc in my neck this year, requiring a surgery on my spine.<br/><br/>Was initially astonished how I could get this at my age, but the doctor mentioned that this is very typical among his younger patients now - thanks to the way we work and consume entertainment, glued to the phone. My one plus 7 pro had also just given up on the fancy raising camera at the same time. Looking around for a small phone, came across the 12 mini. Being an android person, I had never even known about the 12 or 13 mini when the launched. The price difference between the 12 and 13 mini is too big (15-20k), and went with the 12 mini despite the battery concerns.<br/><br/>In dark mode, with background app refresh off, 4G + wifi, and around 40% brightness (with auto brightness on), I'm easily getting 6+ hours of screen on time with 25% battery left at end of day. Not a gamer - uses are mainly around the social media apps, e commerce, food delivery, cab hailing, maps and chrome browsing. And the occasional camera captures.<br/><br/>Picking up my old phone now feels like a chore - my fingers and shoulders hurt less, and I lose out on nothings compared to the old phone. In fact, a couple of One plus 7 pro updates had made the battery drain even faster (4-5 hrs) than what I'm getting out of iOS.<br/><br/>My only worry is how I'll get to keep the same size going forward, since there's going to be no 14 mini. So long as the phone is your tool, 12 mini is a powerful, tiny, and definitely battery adequate. If you're like me a few months back, when you're plugged into the matrix via your phone - this is not for you.</span>,\n",
       " <span>Nice ❤️</span>,\n",
       " <span>Worst iphone ever</span>,\n",
       " <span>1) If privacy means anything to you, Apple is the answer right now. Google has gone to the path of everything that is wrong with big techs, and it took me 6 months to entirely come out of google ecosystem.<br/><br/>2) Best small phone out there, if android isn’t even an option for point 1, this is the only choice anyway. I waited for the right sized small phone with right specs from apple. It fits perfectly in pocket, in hand, good one hand usage, it’s blocky enough not to slip out of hand.<br/><br/>3) If you’re taking a small phone, most possibly you have a life and phone isn’t your life. The charge will live through the day for “phone like usage”. 5 hours screen on time is more than sufficient. For gaming get a gaming PC or console, for big screen get a big screen TV. If you want all in one device, pay more, get a bigger phone, or get a battery pack maybe? I’m tired of the battery argument, it’s a “phone” !!<br/><br/>4) iOS wasn’t very easy to understand for someone moving from android first time. But it’s not too hard either, about a week I was uncomfortable in situations I had to hurry to do something or get something done, after a month usage I forgot the fact I am still new to this. iOS is intuitive enough, simple for anyone to use.<br/><br/>5) For whatever reason everything in App store is so costly ! Most app doesn’t have any India cost adjustment, and they just convert whatever price they have in USD to INR. So be prepared. If you don’t like ads, get a VPN with ad blocker or any VPN with custom DNS to AdGuard servers.<br/><br/>6) Screen quality is brilliant, it’s vibrant, it’s crisp, it’s very colour accurate, get bright enough indoor and outdoor, under sunlight no issues using.<br/><br/>7) Speakers are pretty good, stereo setup, had very good lows, doesn’t crack at high volume, but guess what, if I use earphones for watching videos - battery life goes way better. For watching movies, online courses, better use a earphone, you won’t realise it has a small battery.<br/><br/>8) It doesn’t come with a charging adapter. I’m still using my pixel 2 xl charger. Charges fast to 80%, then it’s a bit slower - but i guess that’s an expects behaviour.<br/><br/>9) The charging cable seems weirdly stiff, I have read only bad reviews about them so be careful handling charging cable, use it with care, it will last long.<br/><br/>10) Phone cameras has gone very far these days. It’s a very good camera here as well. I’m coming from Pixel 2 XL which had great camera and this one is even better. I don’t think people really need to bother too much about camera quality here. 4K video recording at 60 FPS .. what do you want more !!</span>,\n",
       " <span>Upgraded from iPhone 7. This really is a significant upgrade. I love this size. This is just perfect, you can use it single handedly, easily fits into pockets, reach every corner of the screen easily.<br/>I was waiting for this size for so long and finally, after 2 months of buying, I’m writing a review. Just go for it if you want a small phone. In reality, it’s not even that small, almost the size of iPhone 7, with full edge to edge display.<br/><br/>Feel: Ever used an iPhone 5 (or 4, 5s, SE)? Remember how boxy it was and how good it felt in your hand, with all those edges? Same with this phone. It feels so good to hold in hand with a glass body, it cannot be expressed in words.<br/><br/>Display: Phenomenal! OLED display with HDR stuff feels like on a different level. Darks feel dark, and not grays.<br/><br/>Sound: Stereo speakers, which really are loud and clear. iPhone 7 also had stereo speakers but on these, there’s a noticeable difference in loudness, and sound quality.<br/><br/>Battery: Many people are criticizing battery, but I’m not a heavy user, most importantly I’ve been an iPhone user so battery life is decent enough. Much better than iPhone 7, obviously. Easily lasts more than a day. And with a 20w charger, it charges pretty fast too.<br/><br/>Security: Upgrading from TouchID to FaceID was a nice experience. I’m already in love with FaceID. It works every single time (except when you’re wearing masks, you have to put it down a little bit to let it recognize your face).<br/><br/>Camera: I don’t need to describe this. Do I? But let me tell you the night mode is superb!<br/><br/>Accessories: You only get a Type-C to lightening port cable, and a single apple sticker. That’s it.<br/><br/>eSIM functionality works great, WiFi reception is good, call quality is awesome, as you’d expect. Long story cut short, everything is great when compared with iPhone 7 (which still was working awesome, except storage, and battery after 3 years). The only thing I miss is 3D Touch, and home button, lol.<br/><br/>To conclude, it’s a great buy. I bought 128GB version in black color. Hope it’s gonna last for a couple of years.<br/>Please hit helpful, if you found it helpful.</span>,\n",
       " <span>All good...🤠🤠🤠🤠🤠🤠</span>,\n",
       " <span>It has been more than 3 weeks since I got the new iPhone 12 mini.<br/><br/>I have been an Apple customer since 2013. The first one was an iPhone 5. I had been using a 1st Gen iPhone SE since mid 2017. Even today the iPhone SE is a beast for regular usage. I had started loving the new iPhone 12 mini since its launch - as I like the flat edges and the small size.<br/><br/>However, I had no plans to upgrade now. I usually wait until the new technologies (the full screen OLED display for example) to become stable and mature enough. I also wait until the model I like is a year or more old, so that the price is much lower than the launch price. But, my iPhone SE which had survived several falls earlier, suffered another fall and this time the touch stopped responding. The screen replacement cost was almost as much as the price I had paid for that phone.<br/><br/>I got a decent offer on the purchase of the new iPhone 12 mini on Amazon. As expected Amazon delivered a factory sealed phone, well packed, the very next day. Setting the new phone up was very easy being an Apple Customer already. I just had to upgrade the OS and restore from my iCloud Backup.<br/><br/>I like the white color body and the glass back. Having used to the bezels of the iPhone SE, the bezel less screen is the most I like from my upgrade. The 12 mini is slightly bigger than the 1st Gen SE but the different in the viewable area is so amazing. I also like the OLED screen so much.<br/><br/>Battery has not been a problem for me as I do not play any games. So, even 24 hours after a full charge, I am left with about 30%. I have not experienced any heating during charging or during normal use.<br/><br/>The 4G speeds are noticeably increased compared to the 1st Gen SE. The WiFi speeds have a big jump. Everything downloads so fast. I do have a router at home that supports MIMO and I connect on the 5GHz channel.<br/><br/>I have been mostly on the WiFi so far. I don't know how the battery life will be when I am out using 4G data for 8-12 hours a day.<br/><br/>Overall I am happy with my purchase so far!</span>,\n",
       " <span>Disappointed. Have been using apple since iphone 5 the quality of the camera is very decent would rather choose samsung or pixel over iphone although video quality is excellent. realistic photo only iphone 10 use to click gonna miss it.<br/><br/>Pros<br/>Video quality<br/>Small in size<br/>Ecosystem is great<br/><br/>Cons<br/>Overpriced for india<br/>Camera quality is decent<br/>Battery doesnt last that long<br/>Software updates are sometimes buggy<br/>Icloud+ upgrade reminder is seriously annoying<br/><br/>FYI: The iphone 13 series camera is one of the worst in the iphone lineup they now look like cheap poco phones with over saturation and excess sharpness.<br/><br/>Suggestion:<br/>Go with Samsung S22 ultra or pixel if you dont use videography a lot ill assure you wont be disappointed.</span>,\n",
       " <span>Battery life is poor, performance super.</span>]"
      ]
     },
     "execution_count": 9,
     "metadata": {},
     "output_type": "execute_result"
    }
   ],
   "source": [
    "reviews = soup.select('span.review-text-content span')\n",
    "reviews"
   ]
  },
  {
   "cell_type": "code",
   "execution_count": null,
   "metadata": {
    "colab": {
     "base_uri": "https://localhost:8080/"
    },
    "id": "mJgeKf_9suLX",
    "outputId": "1e52d3b2-ac7b-4d4a-aa17-bcc2bd6fce86"
   },
   "outputs": [
    {
     "data": {
      "text/plain": [
       "10"
      ]
     },
     "execution_count": 27,
     "metadata": {
      "tags": []
     },
     "output_type": "execute_result"
    }
   ],
   "source": [
    "len(reviews)"
   ]
  },
  {
   "cell_type": "code",
   "execution_count": null,
   "metadata": {
    "colab": {
     "base_uri": "https://localhost:8080/",
     "height": 35
    },
    "id": "eVvM9M7RwRvw",
    "outputId": "3abef838-a36a-457b-a679-1df9c7ac2c07"
   },
   "outputs": [
    {
     "data": {
      "application/vnd.google.colaboratory.intrinsic+json": {
       "type": "string"
      },
      "text/plain": [
       "'RB'"
      ]
     },
     "execution_count": 10,
     "metadata": {},
     "output_type": "execute_result"
    }
   ],
   "source": [
    "names[0].get_text()"
   ]
  },
  {
   "cell_type": "code",
   "execution_count": null,
   "metadata": {
    "id": "ss82acZWs0MO"
   },
   "outputs": [],
   "source": [
    "cust_name = []\n",
    "rev_date = []\n",
    "ratings = []\n",
    "rev_title = []\n",
    "rev_content = []\n",
    "for i in range(len(names)):\n",
    "  cust_name.append(names[i].get_text())\n",
    "  rev_date.append(dates[i].get_text().replace(\"Reviewed in India on \",\"\"))\n",
    "  ratings.append(stars[i].get_text())\n",
    "  rev_title.append(titles[i].get_text())\n",
    "  rev_content.append(reviews[i].get_text().strip(\"\\n \"))"
   ]
  },
  {
   "cell_type": "code",
   "execution_count": null,
   "metadata": {
    "id": "iFnzO03KwgHz"
   },
   "outputs": [],
   "source": [
    "rev_content"
   ]
  },
  {
   "cell_type": "code",
   "execution_count": null,
   "metadata": {
    "id": "CSekc-3Awixo"
   },
   "outputs": [],
   "source": [
    "import pandas as pd"
   ]
  },
  {
   "cell_type": "code",
   "execution_count": null,
   "metadata": {
    "colab": {
     "base_uri": "https://localhost:8080/",
     "height": 580
    },
    "id": "8ircq7R3yVgg",
    "outputId": "dc9a6a09-fa5b-4b94-a712-08fe1d6ab071"
   },
   "outputs": [
    {
     "data": {
      "text/html": [
       "\n",
       "  <div id=\"df-389328d0-3783-4c7e-92b7-22ac1cb8cc10\">\n",
       "    <div class=\"colab-df-container\">\n",
       "      <div>\n",
       "<style scoped>\n",
       "    .dataframe tbody tr th:only-of-type {\n",
       "        vertical-align: middle;\n",
       "    }\n",
       "\n",
       "    .dataframe tbody tr th {\n",
       "        vertical-align: top;\n",
       "    }\n",
       "\n",
       "    .dataframe thead th {\n",
       "        text-align: right;\n",
       "    }\n",
       "</style>\n",
       "<table border=\"1\" class=\"dataframe\">\n",
       "  <thead>\n",
       "    <tr style=\"text-align: right;\">\n",
       "      <th></th>\n",
       "      <th>Customer Name</th>\n",
       "      <th>Date</th>\n",
       "      <th>Ratings</th>\n",
       "      <th>Review Title</th>\n",
       "      <th>Reviews</th>\n",
       "    </tr>\n",
       "  </thead>\n",
       "  <tbody>\n",
       "    <tr>\n",
       "      <th>0</th>\n",
       "      <td>RB</td>\n",
       "      <td>Reviewed in India 🇮🇳 on 21 November 2022</td>\n",
       "      <td>4.0 out of 5 stars</td>\n",
       "      <td>Battery sucks rest all great</td>\n",
       "      <td>Battery is just pathetic and  in camera, i don...</td>\n",
       "    </tr>\n",
       "    <tr>\n",
       "      <th>1</th>\n",
       "      <td>Aravind</td>\n",
       "      <td>Reviewed in India 🇮🇳 on 4 August 2022</td>\n",
       "      <td>5.0 out of 5 stars</td>\n",
       "      <td>Ideal for what it is</td>\n",
       "      <td>Ever since the first One plus, I'd been moving...</td>\n",
       "    </tr>\n",
       "    <tr>\n",
       "      <th>2</th>\n",
       "      <td>Abel philips Johny</td>\n",
       "      <td>Reviewed in India 🇮🇳 on 22 November 2022</td>\n",
       "      <td>5.0 out of 5 stars</td>\n",
       "      <td>iPhone 12 mini 🥰</td>\n",
       "      <td>Nice ❤️</td>\n",
       "    </tr>\n",
       "    <tr>\n",
       "      <th>3</th>\n",
       "      <td>Rajesh kumar</td>\n",
       "      <td>Reviewed in India 🇮🇳 on 21 September 2022</td>\n",
       "      <td>4.0 out of 5 stars</td>\n",
       "      <td>Please don’t buy, overheating, no battery life...</td>\n",
       "      <td>Worst iphone ever</td>\n",
       "    </tr>\n",
       "    <tr>\n",
       "      <th>4</th>\n",
       "      <td>Rohan Chowdhury</td>\n",
       "      <td>Reviewed in India 🇮🇳 on 1 March 2021</td>\n",
       "      <td>5.0 out of 5 stars</td>\n",
       "      <td>Need a small phone? Care about privacy? Get this.</td>\n",
       "      <td>1) If privacy means anything to you, Apple is ...</td>\n",
       "    </tr>\n",
       "    <tr>\n",
       "      <th>5</th>\n",
       "      <td>Divyansh</td>\n",
       "      <td>Reviewed in India 🇮🇳 on 14 March 2021</td>\n",
       "      <td>5.0 out of 5 stars</td>\n",
       "      <td>I LOVE IT!!!</td>\n",
       "      <td>Upgraded from iPhone 7. This really is a signi...</td>\n",
       "    </tr>\n",
       "    <tr>\n",
       "      <th>6</th>\n",
       "      <td>Pradeep Kumar Yadav</td>\n",
       "      <td>Reviewed in India 🇮🇳 on 17 October 2022</td>\n",
       "      <td>5.0 out of 5 stars</td>\n",
       "      <td>Featured</td>\n",
       "      <td>All good...🤠🤠🤠🤠🤠🤠</td>\n",
       "    </tr>\n",
       "    <tr>\n",
       "      <th>7</th>\n",
       "      <td>Hariharasudan Thiyagamoorthi</td>\n",
       "      <td>Reviewed in India 🇮🇳 on 13 February 2021</td>\n",
       "      <td>5.0 out of 5 stars</td>\n",
       "      <td>An unplanned upgrade from iPhone SE (1st Gen) ...</td>\n",
       "      <td>It has been more than 3 weeks since I got the ...</td>\n",
       "    </tr>\n",
       "    <tr>\n",
       "      <th>8</th>\n",
       "      <td>Atoz</td>\n",
       "      <td>Reviewed in India 🇮🇳 on 5 September 2022</td>\n",
       "      <td>3.0 out of 5 stars</td>\n",
       "      <td>Decent product. Not value for money.</td>\n",
       "      <td>Disappointed. Have been using apple since ipho...</td>\n",
       "    </tr>\n",
       "    <tr>\n",
       "      <th>9</th>\n",
       "      <td>Swagath Kumar kolige</td>\n",
       "      <td>Reviewed in India 🇮🇳 on 5 August 2022</td>\n",
       "      <td>4.0 out of 5 stars</td>\n",
       "      <td>Only issue is you do something or not Battery ...</td>\n",
       "      <td>Battery life is poor, performance super.</td>\n",
       "    </tr>\n",
       "  </tbody>\n",
       "</table>\n",
       "</div>\n",
       "      <button class=\"colab-df-convert\" onclick=\"convertToInteractive('df-389328d0-3783-4c7e-92b7-22ac1cb8cc10')\"\n",
       "              title=\"Convert this dataframe to an interactive table.\"\n",
       "              style=\"display:none;\">\n",
       "        \n",
       "  <svg xmlns=\"http://www.w3.org/2000/svg\" height=\"24px\"viewBox=\"0 0 24 24\"\n",
       "       width=\"24px\">\n",
       "    <path d=\"M0 0h24v24H0V0z\" fill=\"none\"/>\n",
       "    <path d=\"M18.56 5.44l.94 2.06.94-2.06 2.06-.94-2.06-.94-.94-2.06-.94 2.06-2.06.94zm-11 1L8.5 8.5l.94-2.06 2.06-.94-2.06-.94L8.5 2.5l-.94 2.06-2.06.94zm10 10l.94 2.06.94-2.06 2.06-.94-2.06-.94-.94-2.06-.94 2.06-2.06.94z\"/><path d=\"M17.41 7.96l-1.37-1.37c-.4-.4-.92-.59-1.43-.59-.52 0-1.04.2-1.43.59L10.3 9.45l-7.72 7.72c-.78.78-.78 2.05 0 2.83L4 21.41c.39.39.9.59 1.41.59.51 0 1.02-.2 1.41-.59l7.78-7.78 2.81-2.81c.8-.78.8-2.07 0-2.86zM5.41 20L4 18.59l7.72-7.72 1.47 1.35L5.41 20z\"/>\n",
       "  </svg>\n",
       "      </button>\n",
       "      \n",
       "  <style>\n",
       "    .colab-df-container {\n",
       "      display:flex;\n",
       "      flex-wrap:wrap;\n",
       "      gap: 12px;\n",
       "    }\n",
       "\n",
       "    .colab-df-convert {\n",
       "      background-color: #E8F0FE;\n",
       "      border: none;\n",
       "      border-radius: 50%;\n",
       "      cursor: pointer;\n",
       "      display: none;\n",
       "      fill: #1967D2;\n",
       "      height: 32px;\n",
       "      padding: 0 0 0 0;\n",
       "      width: 32px;\n",
       "    }\n",
       "\n",
       "    .colab-df-convert:hover {\n",
       "      background-color: #E2EBFA;\n",
       "      box-shadow: 0px 1px 2px rgba(60, 64, 67, 0.3), 0px 1px 3px 1px rgba(60, 64, 67, 0.15);\n",
       "      fill: #174EA6;\n",
       "    }\n",
       "\n",
       "    [theme=dark] .colab-df-convert {\n",
       "      background-color: #3B4455;\n",
       "      fill: #D2E3FC;\n",
       "    }\n",
       "\n",
       "    [theme=dark] .colab-df-convert:hover {\n",
       "      background-color: #434B5C;\n",
       "      box-shadow: 0px 1px 3px 1px rgba(0, 0, 0, 0.15);\n",
       "      filter: drop-shadow(0px 1px 2px rgba(0, 0, 0, 0.3));\n",
       "      fill: #FFFFFF;\n",
       "    }\n",
       "  </style>\n",
       "\n",
       "      <script>\n",
       "        const buttonEl =\n",
       "          document.querySelector('#df-389328d0-3783-4c7e-92b7-22ac1cb8cc10 button.colab-df-convert');\n",
       "        buttonEl.style.display =\n",
       "          google.colab.kernel.accessAllowed ? 'block' : 'none';\n",
       "\n",
       "        async function convertToInteractive(key) {\n",
       "          const element = document.querySelector('#df-389328d0-3783-4c7e-92b7-22ac1cb8cc10');\n",
       "          const dataTable =\n",
       "            await google.colab.kernel.invokeFunction('convertToInteractive',\n",
       "                                                     [key], {});\n",
       "          if (!dataTable) return;\n",
       "\n",
       "          const docLinkHtml = 'Like what you see? Visit the ' +\n",
       "            '<a target=\"_blank\" href=https://colab.research.google.com/notebooks/data_table.ipynb>data table notebook</a>'\n",
       "            + ' to learn more about interactive tables.';\n",
       "          element.innerHTML = '';\n",
       "          dataTable['output_type'] = 'display_data';\n",
       "          await google.colab.output.renderOutput(dataTable, element);\n",
       "          const docLink = document.createElement('div');\n",
       "          docLink.innerHTML = docLinkHtml;\n",
       "          element.appendChild(docLink);\n",
       "        }\n",
       "      </script>\n",
       "    </div>\n",
       "  </div>\n",
       "  "
      ],
      "text/plain": [
       "                  Customer Name                                       Date  \\\n",
       "0                            RB   Reviewed in India 🇮🇳 on 21 November 2022   \n",
       "1                       Aravind      Reviewed in India 🇮🇳 on 4 August 2022   \n",
       "2            Abel philips Johny   Reviewed in India 🇮🇳 on 22 November 2022   \n",
       "3                  Rajesh kumar  Reviewed in India 🇮🇳 on 21 September 2022   \n",
       "4               Rohan Chowdhury       Reviewed in India 🇮🇳 on 1 March 2021   \n",
       "5                      Divyansh      Reviewed in India 🇮🇳 on 14 March 2021   \n",
       "6           Pradeep Kumar Yadav    Reviewed in India 🇮🇳 on 17 October 2022   \n",
       "7  Hariharasudan Thiyagamoorthi   Reviewed in India 🇮🇳 on 13 February 2021   \n",
       "8                          Atoz   Reviewed in India 🇮🇳 on 5 September 2022   \n",
       "9          Swagath Kumar kolige      Reviewed in India 🇮🇳 on 5 August 2022   \n",
       "\n",
       "              Ratings                                       Review Title  \\\n",
       "0  4.0 out of 5 stars                       Battery sucks rest all great   \n",
       "1  5.0 out of 5 stars                               Ideal for what it is   \n",
       "2  5.0 out of 5 stars                                   iPhone 12 mini 🥰   \n",
       "3  4.0 out of 5 stars  Please don’t buy, overheating, no battery life...   \n",
       "4  5.0 out of 5 stars  Need a small phone? Care about privacy? Get this.   \n",
       "5  5.0 out of 5 stars                                       I LOVE IT!!!   \n",
       "6  5.0 out of 5 stars                                           Featured   \n",
       "7  5.0 out of 5 stars  An unplanned upgrade from iPhone SE (1st Gen) ...   \n",
       "8  3.0 out of 5 stars               Decent product. Not value for money.   \n",
       "9  4.0 out of 5 stars  Only issue is you do something or not Battery ...   \n",
       "\n",
       "                                             Reviews  \n",
       "0  Battery is just pathetic and  in camera, i don...  \n",
       "1  Ever since the first One plus, I'd been moving...  \n",
       "2                                            Nice ❤️  \n",
       "3                                  Worst iphone ever  \n",
       "4  1) If privacy means anything to you, Apple is ...  \n",
       "5  Upgraded from iPhone 7. This really is a signi...  \n",
       "6                                  All good...🤠🤠🤠🤠🤠🤠  \n",
       "7  It has been more than 3 weeks since I got the ...  \n",
       "8  Disappointed. Have been using apple since ipho...  \n",
       "9           Battery life is poor, performance super.  "
      ]
     },
     "execution_count": 16,
     "metadata": {},
     "output_type": "execute_result"
    }
   ],
   "source": [
    "df = pd.DataFrame()\n",
    "df['Customer Name'] = cust_name\n",
    "df['Date'] = rev_date\n",
    "df['Ratings'] = ratings\n",
    "df['Review Title'] = rev_title\n",
    "df['Reviews'] = rev_content\n",
    "df"
   ]
  },
  {
   "cell_type": "code",
   "execution_count": null,
   "metadata": {
    "id": "KLdJfztzyZMA"
   },
   "outputs": [],
   "source": [
    "df.to_csv(\"amazon.csv\")"
   ]
  },
  {
   "cell_type": "code",
   "execution_count": 1,
   "metadata": {
    "id": "gYcecvWbzWQc"
   },
   "outputs": [
    {
     "ename": "NameError",
     "evalue": "name 'requests' is not defined",
     "output_type": "error",
     "traceback": [
      "\u001b[1;31m---------------------------------------------------------------------------\u001b[0m",
      "\u001b[1;31mNameError\u001b[0m                                 Traceback (most recent call last)",
      "\u001b[1;32m~\\AppData\\Local\\Temp/ipykernel_21172/343032233.py\u001b[0m in \u001b[0;36m<module>\u001b[1;34m\u001b[0m\n\u001b[0;32m      6\u001b[0m \u001b[1;32mfor\u001b[0m \u001b[0mpage\u001b[0m \u001b[1;32min\u001b[0m \u001b[0mrange\u001b[0m\u001b[1;33m(\u001b[0m\u001b[1;36m1\u001b[0m\u001b[1;33m,\u001b[0m\u001b[1;36m35\u001b[0m\u001b[1;33m)\u001b[0m\u001b[1;33m:\u001b[0m\u001b[1;33m\u001b[0m\u001b[1;33m\u001b[0m\u001b[0m\n\u001b[0;32m      7\u001b[0m   \u001b[0murl\u001b[0m \u001b[1;33m=\u001b[0m \u001b[1;34m\"https://www.amazon.in/New-Apple-iPhone-Mini-128GB/product-reviews/B08L5VN68Y/ref=cm_cr_arp_d_paging_btm_next_2?ie=UTF8&reviewerType=all_reviews&pageNumber=\"\u001b[0m\u001b[1;33m+\u001b[0m\u001b[0mstr\u001b[0m\u001b[1;33m(\u001b[0m\u001b[0mpage\u001b[0m\u001b[1;33m)\u001b[0m\u001b[1;33m\u001b[0m\u001b[1;33m\u001b[0m\u001b[0m\n\u001b[1;32m----> 8\u001b[1;33m   \u001b[0mcode\u001b[0m \u001b[1;33m=\u001b[0m \u001b[0mrequests\u001b[0m\u001b[1;33m.\u001b[0m\u001b[0mget\u001b[0m\u001b[1;33m(\u001b[0m\u001b[0murl\u001b[0m\u001b[1;33m)\u001b[0m\u001b[1;33m\u001b[0m\u001b[1;33m\u001b[0m\u001b[0m\n\u001b[0m\u001b[0;32m      9\u001b[0m   \u001b[1;32mif\u001b[0m \u001b[0mstr\u001b[0m\u001b[1;33m(\u001b[0m\u001b[0mcode\u001b[0m\u001b[1;33m)\u001b[0m \u001b[1;33m==\u001b[0m \u001b[1;34m\"<Response [200]>\"\u001b[0m\u001b[1;33m:\u001b[0m\u001b[1;33m\u001b[0m\u001b[1;33m\u001b[0m\u001b[0m\n\u001b[0;32m     10\u001b[0m     \u001b[0msoup\u001b[0m \u001b[1;33m=\u001b[0m \u001b[0mBeautifulSoup\u001b[0m\u001b[1;33m(\u001b[0m\u001b[0mcode\u001b[0m\u001b[1;33m.\u001b[0m\u001b[0mcontent\u001b[0m\u001b[1;33m,\u001b[0m\u001b[1;34m'html.parser'\u001b[0m\u001b[1;33m)\u001b[0m\u001b[1;33m\u001b[0m\u001b[1;33m\u001b[0m\u001b[0m\n",
      "\u001b[1;31mNameError\u001b[0m: name 'requests' is not defined"
     ]
    }
   ],
   "source": [
    "cust_name = []\n",
    "rev_date = []\n",
    "ratings = []\n",
    "rev_title = []\n",
    "rev_content = []\n",
    "for page in range(1,35):\n",
    "  url = \"https://www.amazon.in/New-Apple-iPhone-Mini-128GB/product-reviews/B08L5VN68Y/ref=cm_cr_arp_d_paging_btm_next_2?ie=UTF8&reviewerType=all_reviews&pageNumber=\"+str(page)\n",
    "  code = requests.get(url)\n",
    "  if str(code) == \"<Response [200]>\":\n",
    "    soup = BeautifulSoup(code.content,'html.parser')\n",
    "    names = soup.select('span.a-profile-name')[2:]\n",
    "    titles = soup.select('a.review-title span')\n",
    "    dates = soup.select('span.review-date')[2:]\n",
    "    stars = soup.select('i.review-rating span.a-icon-alt')[2:]\n",
    "    reviews = soup.select('span.review-text-content span')\n",
    "    for i in range(len(names)):\n",
    "      cust_name.append(names[i].get_text())\n",
    "      rev_date.append(dates[i].get_text().replace(\"Reviewed in India on \",\"\"))\n",
    "      ratings.append(stars[i].get_text())\n",
    "      rev_title.append(titles[i].get_text())\n",
    "      rev_content.append(reviews[i].get_text().strip(\"\\n \"))"
   ]
  },
  {
   "cell_type": "code",
   "execution_count": null,
   "metadata": {
    "id": "ufLEK3Oi36y-"
   },
   "outputs": [],
   "source": [
    "str(code) == \"<Response [200]>\""
   ]
  },
  {
   "cell_type": "code",
   "execution_count": null,
   "metadata": {
    "colab": {
     "base_uri": "https://localhost:8080/",
     "height": 580
    },
    "id": "rVgyQHvf3b3x",
    "outputId": "60b4eab3-036e-41f6-e053-31000f3d7d9e"
   },
   "outputs": [
    {
     "data": {
      "text/html": [
       "\n",
       "  <div id=\"df-0d20b5d9-9be7-4871-aab7-fc3dfc5582d2\">\n",
       "    <div class=\"colab-df-container\">\n",
       "      <div>\n",
       "<style scoped>\n",
       "    .dataframe tbody tr th:only-of-type {\n",
       "        vertical-align: middle;\n",
       "    }\n",
       "\n",
       "    .dataframe tbody tr th {\n",
       "        vertical-align: top;\n",
       "    }\n",
       "\n",
       "    .dataframe thead th {\n",
       "        text-align: right;\n",
       "    }\n",
       "</style>\n",
       "<table border=\"1\" class=\"dataframe\">\n",
       "  <thead>\n",
       "    <tr style=\"text-align: right;\">\n",
       "      <th></th>\n",
       "      <th>Customer Name</th>\n",
       "      <th>Date</th>\n",
       "      <th>Ratings</th>\n",
       "      <th>Review Title</th>\n",
       "      <th>Reviews</th>\n",
       "    </tr>\n",
       "  </thead>\n",
       "  <tbody>\n",
       "    <tr>\n",
       "      <th>0</th>\n",
       "      <td>RB</td>\n",
       "      <td>Reviewed in India 🇮🇳 on 21 November 2022</td>\n",
       "      <td>4.0 out of 5 stars</td>\n",
       "      <td>Battery sucks rest all great</td>\n",
       "      <td>Battery is just pathetic and  in camera, i don...</td>\n",
       "    </tr>\n",
       "    <tr>\n",
       "      <th>1</th>\n",
       "      <td>Aravind</td>\n",
       "      <td>Reviewed in India 🇮🇳 on 4 August 2022</td>\n",
       "      <td>5.0 out of 5 stars</td>\n",
       "      <td>Ideal for what it is</td>\n",
       "      <td>Ever since the first One plus, I'd been moving...</td>\n",
       "    </tr>\n",
       "    <tr>\n",
       "      <th>2</th>\n",
       "      <td>Abel philips Johny</td>\n",
       "      <td>Reviewed in India 🇮🇳 on 22 November 2022</td>\n",
       "      <td>5.0 out of 5 stars</td>\n",
       "      <td>iPhone 12 mini 🥰</td>\n",
       "      <td>Nice ❤️</td>\n",
       "    </tr>\n",
       "    <tr>\n",
       "      <th>3</th>\n",
       "      <td>Rajesh kumar</td>\n",
       "      <td>Reviewed in India 🇮🇳 on 21 September 2022</td>\n",
       "      <td>4.0 out of 5 stars</td>\n",
       "      <td>Please don’t buy, overheating, no battery life...</td>\n",
       "      <td>Worst iphone ever</td>\n",
       "    </tr>\n",
       "    <tr>\n",
       "      <th>4</th>\n",
       "      <td>Rohan Chowdhury</td>\n",
       "      <td>Reviewed in India 🇮🇳 on 1 March 2021</td>\n",
       "      <td>5.0 out of 5 stars</td>\n",
       "      <td>Need a small phone? Care about privacy? Get this.</td>\n",
       "      <td>1) If privacy means anything to you, Apple is ...</td>\n",
       "    </tr>\n",
       "    <tr>\n",
       "      <th>5</th>\n",
       "      <td>Divyansh</td>\n",
       "      <td>Reviewed in India 🇮🇳 on 14 March 2021</td>\n",
       "      <td>5.0 out of 5 stars</td>\n",
       "      <td>I LOVE IT!!!</td>\n",
       "      <td>Upgraded from iPhone 7. This really is a signi...</td>\n",
       "    </tr>\n",
       "    <tr>\n",
       "      <th>6</th>\n",
       "      <td>Pradeep Kumar Yadav</td>\n",
       "      <td>Reviewed in India 🇮🇳 on 17 October 2022</td>\n",
       "      <td>5.0 out of 5 stars</td>\n",
       "      <td>Featured</td>\n",
       "      <td>All good...🤠🤠🤠🤠🤠🤠</td>\n",
       "    </tr>\n",
       "    <tr>\n",
       "      <th>7</th>\n",
       "      <td>Hariharasudan Thiyagamoorthi</td>\n",
       "      <td>Reviewed in India 🇮🇳 on 13 February 2021</td>\n",
       "      <td>5.0 out of 5 stars</td>\n",
       "      <td>An unplanned upgrade from iPhone SE (1st Gen) ...</td>\n",
       "      <td>It has been more than 3 weeks since I got the ...</td>\n",
       "    </tr>\n",
       "    <tr>\n",
       "      <th>8</th>\n",
       "      <td>Atoz</td>\n",
       "      <td>Reviewed in India 🇮🇳 on 5 September 2022</td>\n",
       "      <td>3.0 out of 5 stars</td>\n",
       "      <td>Decent product. Not value for money.</td>\n",
       "      <td>Disappointed. Have been using apple since ipho...</td>\n",
       "    </tr>\n",
       "    <tr>\n",
       "      <th>9</th>\n",
       "      <td>Swagath Kumar kolige</td>\n",
       "      <td>Reviewed in India 🇮🇳 on 5 August 2022</td>\n",
       "      <td>4.0 out of 5 stars</td>\n",
       "      <td>Only issue is you do something or not Battery ...</td>\n",
       "      <td>Battery life is poor, performance super.</td>\n",
       "    </tr>\n",
       "  </tbody>\n",
       "</table>\n",
       "</div>\n",
       "      <button class=\"colab-df-convert\" onclick=\"convertToInteractive('df-0d20b5d9-9be7-4871-aab7-fc3dfc5582d2')\"\n",
       "              title=\"Convert this dataframe to an interactive table.\"\n",
       "              style=\"display:none;\">\n",
       "        \n",
       "  <svg xmlns=\"http://www.w3.org/2000/svg\" height=\"24px\"viewBox=\"0 0 24 24\"\n",
       "       width=\"24px\">\n",
       "    <path d=\"M0 0h24v24H0V0z\" fill=\"none\"/>\n",
       "    <path d=\"M18.56 5.44l.94 2.06.94-2.06 2.06-.94-2.06-.94-.94-2.06-.94 2.06-2.06.94zm-11 1L8.5 8.5l.94-2.06 2.06-.94-2.06-.94L8.5 2.5l-.94 2.06-2.06.94zm10 10l.94 2.06.94-2.06 2.06-.94-2.06-.94-.94-2.06-.94 2.06-2.06.94z\"/><path d=\"M17.41 7.96l-1.37-1.37c-.4-.4-.92-.59-1.43-.59-.52 0-1.04.2-1.43.59L10.3 9.45l-7.72 7.72c-.78.78-.78 2.05 0 2.83L4 21.41c.39.39.9.59 1.41.59.51 0 1.02-.2 1.41-.59l7.78-7.78 2.81-2.81c.8-.78.8-2.07 0-2.86zM5.41 20L4 18.59l7.72-7.72 1.47 1.35L5.41 20z\"/>\n",
       "  </svg>\n",
       "      </button>\n",
       "      \n",
       "  <style>\n",
       "    .colab-df-container {\n",
       "      display:flex;\n",
       "      flex-wrap:wrap;\n",
       "      gap: 12px;\n",
       "    }\n",
       "\n",
       "    .colab-df-convert {\n",
       "      background-color: #E8F0FE;\n",
       "      border: none;\n",
       "      border-radius: 50%;\n",
       "      cursor: pointer;\n",
       "      display: none;\n",
       "      fill: #1967D2;\n",
       "      height: 32px;\n",
       "      padding: 0 0 0 0;\n",
       "      width: 32px;\n",
       "    }\n",
       "\n",
       "    .colab-df-convert:hover {\n",
       "      background-color: #E2EBFA;\n",
       "      box-shadow: 0px 1px 2px rgba(60, 64, 67, 0.3), 0px 1px 3px 1px rgba(60, 64, 67, 0.15);\n",
       "      fill: #174EA6;\n",
       "    }\n",
       "\n",
       "    [theme=dark] .colab-df-convert {\n",
       "      background-color: #3B4455;\n",
       "      fill: #D2E3FC;\n",
       "    }\n",
       "\n",
       "    [theme=dark] .colab-df-convert:hover {\n",
       "      background-color: #434B5C;\n",
       "      box-shadow: 0px 1px 3px 1px rgba(0, 0, 0, 0.15);\n",
       "      filter: drop-shadow(0px 1px 2px rgba(0, 0, 0, 0.3));\n",
       "      fill: #FFFFFF;\n",
       "    }\n",
       "  </style>\n",
       "\n",
       "      <script>\n",
       "        const buttonEl =\n",
       "          document.querySelector('#df-0d20b5d9-9be7-4871-aab7-fc3dfc5582d2 button.colab-df-convert');\n",
       "        buttonEl.style.display =\n",
       "          google.colab.kernel.accessAllowed ? 'block' : 'none';\n",
       "\n",
       "        async function convertToInteractive(key) {\n",
       "          const element = document.querySelector('#df-0d20b5d9-9be7-4871-aab7-fc3dfc5582d2');\n",
       "          const dataTable =\n",
       "            await google.colab.kernel.invokeFunction('convertToInteractive',\n",
       "                                                     [key], {});\n",
       "          if (!dataTable) return;\n",
       "\n",
       "          const docLinkHtml = 'Like what you see? Visit the ' +\n",
       "            '<a target=\"_blank\" href=https://colab.research.google.com/notebooks/data_table.ipynb>data table notebook</a>'\n",
       "            + ' to learn more about interactive tables.';\n",
       "          element.innerHTML = '';\n",
       "          dataTable['output_type'] = 'display_data';\n",
       "          await google.colab.output.renderOutput(dataTable, element);\n",
       "          const docLink = document.createElement('div');\n",
       "          docLink.innerHTML = docLinkHtml;\n",
       "          element.appendChild(docLink);\n",
       "        }\n",
       "      </script>\n",
       "    </div>\n",
       "  </div>\n",
       "  "
      ],
      "text/plain": [
       "                  Customer Name                                       Date  \\\n",
       "0                            RB   Reviewed in India 🇮🇳 on 21 November 2022   \n",
       "1                       Aravind      Reviewed in India 🇮🇳 on 4 August 2022   \n",
       "2            Abel philips Johny   Reviewed in India 🇮🇳 on 22 November 2022   \n",
       "3                  Rajesh kumar  Reviewed in India 🇮🇳 on 21 September 2022   \n",
       "4               Rohan Chowdhury       Reviewed in India 🇮🇳 on 1 March 2021   \n",
       "5                      Divyansh      Reviewed in India 🇮🇳 on 14 March 2021   \n",
       "6           Pradeep Kumar Yadav    Reviewed in India 🇮🇳 on 17 October 2022   \n",
       "7  Hariharasudan Thiyagamoorthi   Reviewed in India 🇮🇳 on 13 February 2021   \n",
       "8                          Atoz   Reviewed in India 🇮🇳 on 5 September 2022   \n",
       "9          Swagath Kumar kolige      Reviewed in India 🇮🇳 on 5 August 2022   \n",
       "\n",
       "              Ratings                                       Review Title  \\\n",
       "0  4.0 out of 5 stars                       Battery sucks rest all great   \n",
       "1  5.0 out of 5 stars                               Ideal for what it is   \n",
       "2  5.0 out of 5 stars                                   iPhone 12 mini 🥰   \n",
       "3  4.0 out of 5 stars  Please don’t buy, overheating, no battery life...   \n",
       "4  5.0 out of 5 stars  Need a small phone? Care about privacy? Get this.   \n",
       "5  5.0 out of 5 stars                                       I LOVE IT!!!   \n",
       "6  5.0 out of 5 stars                                           Featured   \n",
       "7  5.0 out of 5 stars  An unplanned upgrade from iPhone SE (1st Gen) ...   \n",
       "8  3.0 out of 5 stars               Decent product. Not value for money.   \n",
       "9  4.0 out of 5 stars  Only issue is you do something or not Battery ...   \n",
       "\n",
       "                                             Reviews  \n",
       "0  Battery is just pathetic and  in camera, i don...  \n",
       "1  Ever since the first One plus, I'd been moving...  \n",
       "2                                            Nice ❤️  \n",
       "3                                  Worst iphone ever  \n",
       "4  1) If privacy means anything to you, Apple is ...  \n",
       "5  Upgraded from iPhone 7. This really is a signi...  \n",
       "6                                  All good...🤠🤠🤠🤠🤠🤠  \n",
       "7  It has been more than 3 weeks since I got the ...  \n",
       "8  Disappointed. Have been using apple since ipho...  \n",
       "9           Battery life is poor, performance super.  "
      ]
     },
     "execution_count": 14,
     "metadata": {},
     "output_type": "execute_result"
    }
   ],
   "source": [
    "df = pd.DataFrame()\n",
    "df['Customer Name'] = cust_name\n",
    "df['Date'] = rev_date\n",
    "df['Ratings'] = ratings\n",
    "df['Review Title'] = rev_title\n",
    "df['Reviews'] = rev_content\n",
    "df"
   ]
  },
  {
   "cell_type": "code",
   "execution_count": null,
   "metadata": {
    "id": "CWwyzmAwdoX5"
   },
   "outputs": [],
   "source": [
    "df.to_csv('output.csv',index=\"True\")"
   ]
  },
  {
   "cell_type": "code",
   "execution_count": null,
   "metadata": {
    "id": "SJXOGkvu3mhS"
   },
   "outputs": [],
   "source": []
  }
 ],
 "metadata": {
  "colab": {
   "provenance": []
  },
  "kernelspec": {
   "display_name": "Python 3 (ipykernel)",
   "language": "python",
   "name": "python3"
  },
  "language_info": {
   "codemirror_mode": {
    "name": "ipython",
    "version": 3
   },
   "file_extension": ".py",
   "mimetype": "text/x-python",
   "name": "python",
   "nbconvert_exporter": "python",
   "pygments_lexer": "ipython3",
   "version": "3.9.7"
  }
 },
 "nbformat": 4,
 "nbformat_minor": 1
}
